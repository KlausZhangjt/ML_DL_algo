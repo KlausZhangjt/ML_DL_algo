{
 "cells": [
  {
   "cell_type": "code",
   "execution_count": 3,
   "id": "0dd94844-dddc-4de9-97a5-e42296886659",
   "metadata": {},
   "outputs": [],
   "source": [
    "import numpy as np\n",
    "import pandas as pd\n",
    "import time\n",
    "import seaborn as sns\n",
    "import matplotlib.cm as cm\n",
    "from matplotlib import pyplot as plt\n",
    "from keras.models import Sequential\n",
    "from keras.layers import Dense, Dropout, Flatten, Conv2D, MaxPooling2D\n",
    "from keras.callbacks import ModelCheckpoint   \n",
    "from keras.callbacks import ReduceLROnPlateau\n",
    "from keras.utils import np_utils\n",
    "%matplotlib inline"
   ]
  },
  {
   "cell_type": "code",
   "execution_count": 4,
   "id": "563d8730-555f-443e-a3ea-08f94d7319b0",
   "metadata": {},
   "outputs": [],
   "source": [
    "train = pd.read_csv(\"Desktop/MNIST/train_resized.csv\")\n",
    "test = pd.read_csv(\"Desktop/MNIST/test_resized.csv\")\n",
    "# train.isnull().sum().sort_values(ascending=False)\n",
    "# test.isnull().sum().sort_values(ascending=False)"
   ]
  },
  {
   "cell_type": "code",
   "execution_count": 5,
   "id": "b147b2be-017d-43af-9c6a-e6955b73eb72",
   "metadata": {},
   "outputs": [],
   "source": [
    "x_train=train.drop(columns=[\"label\"])\n",
    "y_train=train[\"label\"]\n",
    "X_train=(x_train.to_numpy()-min(x_train.min()))/(max(x_train.max())-min(x_train.min()))\n",
    "X_train = X_train.reshape(-1, 12, 12, 1)\n",
    "Y_train=y_train.to_numpy()\n",
    "\n",
    "x_test=test.drop(columns=[\"label\"])\n",
    "y_test=test[\"label\"]\n",
    "X_test=(x_test.to_numpy()-min(x_test.min()))/(max(x_test.max())-min(x_test.min()))\n",
    "X_test = X_test.reshape(-1, 12, 12, 1)\n",
    "Y_test=y_test.to_numpy()"
   ]
  },
  {
   "cell_type": "code",
   "execution_count": 6,
   "id": "3c094096-9f2e-4af6-80e9-52bd0da9154f",
   "metadata": {},
   "outputs": [
    {
     "data": {
      "text/plain": [
       "((30000, 12, 12, 1), (30000,))"
      ]
     },
     "execution_count": 6,
     "metadata": {},
     "output_type": "execute_result"
    }
   ],
   "source": [
    "X_train.shape, Y_train.shape"
   ]
  },
  {
   "cell_type": "code",
   "execution_count": 7,
   "id": "ee0e3f3a-4cc9-4c6a-b4e6-f00a4eda3c2b",
   "metadata": {},
   "outputs": [
    {
     "data": {
      "text/plain": [
       "(30000, 10)"
      ]
     },
     "execution_count": 7,
     "metadata": {},
     "output_type": "execute_result"
    }
   ],
   "source": [
    "# one-hot encode the labels\n",
    "Y_train = np_utils.to_categorical(Y_train, 10)\n",
    "Y_train.shape"
   ]
  },
  {
   "cell_type": "code",
   "execution_count": 8,
   "id": "f4e2af86-d620-4127-b338-eee59b168425",
   "metadata": {},
   "outputs": [
    {
     "name": "stdout",
     "output_type": "stream",
     "text": [
      "Model: \"sequential_1\"\n",
      "_________________________________________________________________\n",
      "Layer (type)                 Output Shape              Param #   \n",
      "=================================================================\n",
      "conv2d_1 (Conv2D)            (None, 12, 12, 64)        640       \n",
      "_________________________________________________________________\n",
      "conv2d_2 (Conv2D)            (None, 12, 12, 64)        36928     \n",
      "_________________________________________________________________\n",
      "conv2d_3 (Conv2D)            (None, 12, 12, 128)       73856     \n",
      "_________________________________________________________________\n",
      "max_pooling2d_1 (MaxPooling2 (None, 6, 6, 128)         0         \n",
      "_________________________________________________________________\n",
      "conv2d_4 (Conv2D)            (None, 6, 6, 128)         147584    \n",
      "_________________________________________________________________\n",
      "conv2d_5 (Conv2D)            (None, 6, 6, 192)         221376    \n",
      "_________________________________________________________________\n",
      "max_pooling2d_2 (MaxPooling2 (None, 3, 3, 192)         0         \n",
      "_________________________________________________________________\n",
      "conv2d_6 (Conv2D)            (None, 3, 3, 192)         921792    \n",
      "_________________________________________________________________\n",
      "max_pooling2d_3 (MaxPooling2 (None, 2, 2, 192)         0         \n",
      "_________________________________________________________________\n",
      "flatten_1 (Flatten)          (None, 768)               0         \n",
      "_________________________________________________________________\n",
      "dense_1 (Dense)              (None, 256)               196864    \n",
      "_________________________________________________________________\n",
      "dense_2 (Dense)              (None, 10)                2570      \n",
      "=================================================================\n",
      "Total params: 1,601,610\n",
      "Trainable params: 1,601,610\n",
      "Non-trainable params: 0\n",
      "_________________________________________________________________\n"
     ]
    }
   ],
   "source": [
    "# define CNN \n",
    "model = Sequential()\n",
    "model.add(Conv2D(filters=64, kernel_size=3, padding='same', activation='relu', input_shape=(12,12,1)))\n",
    "model.add(Conv2D(filters=64, kernel_size=3, padding='same', activation='relu'))\n",
    "model.add(Conv2D(filters=128, kernel_size=3, padding='same', activation='relu'))\n",
    "model.add(MaxPooling2D(pool_size=2))\n",
    "model.add(Conv2D(filters=128, kernel_size=3, padding='same', activation='relu'))\n",
    "model.add(Conv2D(filters=192, kernel_size=3, padding='same', activation='relu'))\n",
    "model.add(MaxPooling2D(pool_size=2))\n",
    "model.add(Conv2D(filters=192, kernel_size=5, padding='same', activation='relu'))\n",
    "model.add(MaxPooling2D(pool_size=2, padding='same'))\n",
    "model.add(Flatten())\n",
    "model.add(Dense(256, activation='relu'))\n",
    "model.add(Dense(10, activation='softmax'))\n",
    "\n",
    "model.summary()"
   ]
  },
  {
   "cell_type": "code",
   "execution_count": 9,
   "id": "b378fc23-5744-4265-bf7d-70caaf59bdc7",
   "metadata": {},
   "outputs": [],
   "source": [
    "model.compile(loss='categorical_crossentropy', optimizer='adam', metrics=['accuracy'])\n",
    "reduce_lr = ReduceLROnPlateau(monitor='loss', factor=0.3, verbose=1,\n",
    "                              patience=2, min_lr=0.00000001)"
   ]
  },
  {
   "cell_type": "code",
   "execution_count": 10,
   "id": "ffeed466-a4c8-483a-bf7e-4e141320afa7",
   "metadata": {},
   "outputs": [
    {
     "name": "stdout",
     "output_type": "stream",
     "text": [
      "Train on 27000 samples, validate on 3000 samples\n",
      "Epoch 1/25\n",
      "27000/27000 [==============================] - 234s 9ms/step - loss: 0.3691 - accuracy: 0.8798 - val_loss: 0.1300 - val_accuracy: 0.9600\n",
      "Epoch 2/25\n",
      "27000/27000 [==============================] - 243s 9ms/step - loss: 0.0809 - accuracy: 0.9759 - val_loss: 0.0844 - val_accuracy: 0.9737\n",
      "Epoch 3/25\n",
      "27000/27000 [==============================] - 216s 8ms/step - loss: 0.0554 - accuracy: 0.9838 - val_loss: 0.0579 - val_accuracy: 0.9810\n",
      "Epoch 4/25\n",
      "27000/27000 [==============================] - 209s 8ms/step - loss: 0.0466 - accuracy: 0.9847 - val_loss: 0.0539 - val_accuracy: 0.9817\n",
      "Epoch 5/25\n",
      "27000/27000 [==============================] - 207s 8ms/step - loss: 0.0319 - accuracy: 0.9907 - val_loss: 0.0635 - val_accuracy: 0.9813\n",
      "Epoch 6/25\n",
      "27000/27000 [==============================] - 208s 8ms/step - loss: 0.0311 - accuracy: 0.9907 - val_loss: 0.0499 - val_accuracy: 0.9833\n",
      "Epoch 7/25\n",
      "27000/27000 [==============================] - 209s 8ms/step - loss: 0.0221 - accuracy: 0.9936 - val_loss: 0.0739 - val_accuracy: 0.9790\n",
      "Epoch 8/25\n",
      "27000/27000 [==============================] - 214s 8ms/step - loss: 0.0252 - accuracy: 0.9921 - val_loss: 0.0438 - val_accuracy: 0.9863\n",
      "Epoch 9/25\n",
      "27000/27000 [==============================] - 211s 8ms/step - loss: 0.0212 - accuracy: 0.9937 - val_loss: 0.0601 - val_accuracy: 0.9833\n",
      "Epoch 10/25\n",
      "27000/27000 [==============================] - 207s 8ms/step - loss: 0.0168 - accuracy: 0.9950 - val_loss: 0.0472 - val_accuracy: 0.9883\n",
      "Epoch 11/25\n",
      "27000/27000 [==============================] - 209s 8ms/step - loss: 0.0207 - accuracy: 0.9934 - val_loss: 0.0519 - val_accuracy: 0.9850\n",
      "Epoch 12/25\n",
      "27000/27000 [==============================] - 211s 8ms/step - loss: 0.0164 - accuracy: 0.9950 - val_loss: 0.0594 - val_accuracy: 0.9837\n",
      "Epoch 13/25\n",
      "27000/27000 [==============================] - 209s 8ms/step - loss: 0.0150 - accuracy: 0.9952 - val_loss: 0.0638 - val_accuracy: 0.9823\n",
      "Epoch 14/25\n",
      "27000/27000 [==============================] - 218s 8ms/step - loss: 0.0150 - accuracy: 0.9954 - val_loss: 0.0614 - val_accuracy: 0.9843\n",
      "Epoch 15/25\n",
      "27000/27000 [==============================] - 213s 8ms/step - loss: 0.0123 - accuracy: 0.9963 - val_loss: 0.0403 - val_accuracy: 0.9860\n",
      "Epoch 16/25\n",
      "27000/27000 [==============================] - 213s 8ms/step - loss: 0.0156 - accuracy: 0.9949 - val_loss: 0.0578 - val_accuracy: 0.9833\n",
      "Epoch 17/25\n",
      "27000/27000 [==============================] - 206s 8ms/step - loss: 0.0116 - accuracy: 0.9967 - val_loss: 0.0483 - val_accuracy: 0.9883\n",
      "Epoch 18/25\n",
      "27000/27000 [==============================] - 206s 8ms/step - loss: 0.0092 - accuracy: 0.9972 - val_loss: 0.0522 - val_accuracy: 0.9867\n",
      "Epoch 19/25\n",
      "27000/27000 [==============================] - 208s 8ms/step - loss: 0.0123 - accuracy: 0.9967 - val_loss: 0.0783 - val_accuracy: 0.9857\n",
      "Epoch 20/25\n",
      "27000/27000 [==============================] - 206s 8ms/step - loss: 0.0111 - accuracy: 0.9964 - val_loss: 0.0488 - val_accuracy: 0.9883\n",
      "\n",
      "Epoch 00020: ReduceLROnPlateau reducing learning rate to 0.0003000000142492354.\n",
      "Epoch 21/25\n",
      "27000/27000 [==============================] - 212s 8ms/step - loss: 0.0019 - accuracy: 0.9995 - val_loss: 0.0431 - val_accuracy: 0.9893\n",
      "Epoch 22/25\n",
      "27000/27000 [==============================] - 205s 8ms/step - loss: 2.0044e-04 - accuracy: 1.0000 - val_loss: 0.0430 - val_accuracy: 0.9907\n",
      "Epoch 23/25\n",
      "27000/27000 [==============================] - 204s 8ms/step - loss: 5.0897e-05 - accuracy: 1.0000 - val_loss: 0.0471 - val_accuracy: 0.9903\n",
      "Epoch 24/25\n",
      "27000/27000 [==============================] - 207s 8ms/step - loss: 1.2163e-05 - accuracy: 1.0000 - val_loss: 0.0550 - val_accuracy: 0.9900\n",
      "Epoch 25/25\n",
      "27000/27000 [==============================] - 208s 8ms/step - loss: 4.8937e-06 - accuracy: 1.0000 - val_loss: 0.0579 - val_accuracy: 0.9903\n",
      "\n",
      "Epoch 00025: ReduceLROnPlateau reducing learning rate to 9.000000427477062e-05.\n"
     ]
    }
   ],
   "source": [
    "start = time.time()\n",
    "history = model.fit(\n",
    "    X_train, Y_train, \n",
    "    batch_size=100, \n",
    "    epochs=25,\n",
    "    validation_split=0.1,\n",
    "    callbacks=[reduce_lr],\n",
    "    verbose=1, \n",
    "    shuffle=True)"
   ]
  },
  {
   "cell_type": "code",
   "execution_count": 12,
   "id": "67f48a9b-3fbc-4e7f-b7cd-f92aeeb4c6ed",
   "metadata": {},
   "outputs": [
    {
     "name": "stdout",
     "output_type": "stream",
     "text": [
      "Time cose: 5301.895257949829\n"
     ]
    }
   ],
   "source": [
    "end = time.time()\n",
    "print(\"Time cose:\", end-start)"
   ]
  },
  {
   "cell_type": "code",
   "execution_count": 14,
   "id": "08d72d26-195a-4e30-ad94-578520bfef4e",
   "metadata": {},
   "outputs": [
    {
     "data": {
      "image/png": "[encoded data removed]",
      "text/plain": [
       "<Figure size 864x576 with 1 Axes>"
      ]
     },
     "metadata": {
      "needs_background": "light"
     },
     "output_type": "display_data"
    }
   ],
   "source": [
    "pd.DataFrame(history.history).plot(figsize = (12, 8))\n",
    "plt.xlabel('Epoch')\n",
    "plt.title('Loss and Accurancy')\n",
    "plt.show()"
   ]
  },
  {
   "cell_type": "code",
   "execution_count": 15,
   "id": "43f0fca9-5179-4827-9b11-a103213e03dd",
   "metadata": {},
   "outputs": [
    {
     "name": "stdout",
     "output_type": "stream",
     "text": [
      "loss: 0.005794363296705715\n",
      "accuracy: 0.9990333318710327\n"
     ]
    }
   ],
   "source": [
    "loss, accuracy = model.evaluate(X_train,Y_train, verbose=2)\n",
    "print('loss:',loss)\n",
    "print('accuracy:',accuracy)"
   ]
  },
  {
   "cell_type": "code",
   "execution_count": 17,
   "id": "7c21de81-7148-4528-aab0-e1b700efcb27",
   "metadata": {},
   "outputs": [],
   "source": [
    "from sklearn.metrics import confusion_matrix\n",
    "pred = model.predict_classes(X_test, verbose=2)\n",
    "conf = confusion_matrix(Y_test, pred)"
   ]
  },
  {
   "cell_type": "code",
   "execution_count": 24,
   "id": "57fb828d-e1e3-413e-a3c1-151334c996a7",
   "metadata": {},
   "outputs": [
    {
     "name": "stdout",
     "output_type": "stream",
     "text": [
      "The accuracy in test dataset: 99.025%\n",
      "The misclassification error in test dataset:0.975%\n"
     ]
    }
   ],
   "source": [
    "accuracy = np.sum(conf.diagonal())/np.sum(conf)\n",
    "error = 1-accuracy\n",
    "print('The accuracy in test dataset: ', np.round(accuracy*100,3), '%', sep='')\n",
    "print('The misclassification error in test dataset:', np.round(error*100, 3), '%', sep='')"
   ]
  },
  {
   "cell_type": "code",
   "execution_count": 29,
   "id": "6338863c-df81-4883-a090-c0b645e1f52b",
   "metadata": {},
   "outputs": [],
   "source": [
    "import itertools\n",
    "\n",
    "def plot_confusion_matrix(cm, classes,\n",
    "                          normalize=False,\n",
    "                          title='Confusion matrix',\n",
    "                          cmap=plt.cm.Blues):\n",
    "    plt.imshow(cm, interpolation='nearest', cmap=cmap)\n",
    "    plt.title(title)\n",
    "    plt.colorbar()\n",
    "    tick_marks = np.arange(len(classes))\n",
    "    plt.xticks(tick_marks, classes, rotation=45)\n",
    "    plt.yticks(tick_marks, classes)\n",
    "\n",
    "    if normalize:\n",
    "        cm = cm.astype('float') / cm.sum(axis=1)[:, np.newaxis]\n",
    "\n",
    "    thresh = cm.max() / 2.\n",
    "    for i, j in itertools.product(range(cm.shape[0]), range(cm.shape[1])):\n",
    "        plt.text(j, i, cm[i, j],\n",
    "                 horizontalalignment=\"center\",\n",
    "                 color=\"white\" if cm[i, j] > thresh else \"black\")\n",
    "\n",
    "    plt.tight_layout()\n",
    "    plt.ylabel('True label')\n",
    "    plt.xlabel('Predicted label')"
   ]
  },
  {
   "cell_type": "code",
   "execution_count": 32,
   "id": "40a18488-9671-4cbc-add5-b3e89995901a",
   "metadata": {},
   "outputs": [
    {
     "data": {
      "image/png": "[encoded data removed]",
      "text/plain": [
       "<Figure size 576x576 with 2 Axes>"
      ]
     },
     "metadata": {
      "needs_background": "light"
     },
     "output_type": "display_data"
    }
   ],
   "source": [
    "plt.figure(figsize = (8, 8))\n",
    "# plt.grid(b=None)\n",
    "plot_confusion_matrix(conf, classes = range(10))"
   ]
  },
  {
   "cell_type": "code",
   "execution_count": null,
   "id": "3271bf99-2945-4573-b4bf-31d74974d1fc",
   "metadata": {},
   "outputs": [],
   "source": []
  }
 ],
 "metadata": {
  "kernelspec": {
   "display_name": "tensorflow_py36",
   "language": "python",
   "name": "tensorflow_py36"
  },
  "language_info": {
   "codemirror_mode": {
    "name": "ipython",
    "version": 3
   },
   "file_extension": ".py",
   "mimetype": "text/x-python",
   "name": "python",
   "nbconvert_exporter": "python",
   "pygments_lexer": "ipython3",
   "version": "3.6.13"
  }
 },
 "nbformat": 4,
 "nbformat_minor": 5
}
