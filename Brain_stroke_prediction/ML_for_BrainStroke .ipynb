{
 "cells": [
  {
   "cell_type": "markdown",
   "id": "829aca42-8c64-4198-8650-a80ffc14544e",
   "metadata": {
    "tags": []
   },
   "source": [
    "# PREDICTION ON BRAIN STROKE"
   ]
  },
  {
   "cell_type": "markdown",
   "id": "5b359068-d92f-47e8-808b-a53c5ed6b3a7",
   "metadata": {
    "tags": []
   },
   "source": [
    "## 1. EDA"
   ]
  },
  {
   "cell_type": "code",
   "execution_count": 382,
   "id": "c220d0fe-8063-448d-a77e-b961af969087",
   "metadata": {},
   "outputs": [
    {
     "name": "stdout",
     "output_type": "stream",
     "text": [
      "Desktop/brain stroke/full_data.csv\n",
      "Desktop/brain stroke/full_filled_stroke_data (1).csv\n"
     ]
    }
   ],
   "source": [
    "# Packages installed with Python 3 environment\n",
    "\n",
    "import numpy as np\n",
    "import pandas as pd \n",
    "import seaborn as sns\n",
    "import matplotlib.pyplot as plt\n",
    "\n",
    "\n",
    "# List all files under the input directory\n",
    "import os\n",
    "for dirname, _, filenames in os.walk('Desktop/brain stroke'):\n",
    "    for filename in filenames:\n",
    "        print(os.path.join(dirname, filename))"
   ]
  },
  {
   "cell_type": "code",
   "execution_count": 383,
   "id": "a613fc44-cf05-474b-8f6f-19b92c4f6cc2",
   "metadata": {},
   "outputs": [
    {
     "data": {
      "text/html": [
       "<div>\n",
       "<style scoped>\n",
       "    .dataframe tbody tr th:only-of-type {\n",
       "        vertical-align: middle;\n",
       "    }\n",
       "\n",
       "    .dataframe tbody tr th {\n",
       "        vertical-align: top;\n",
       "    }\n",
       "\n",
       "    .dataframe thead th {\n",
       "        text-align: right;\n",
       "    }\n",
       "</style>\n",
       "<table border=\"1\" class=\"dataframe\">\n",
       "  <thead>\n",
       "    <tr style=\"text-align: right;\">\n",
       "      <th></th>\n",
       "      <th>gender</th>\n",
       "      <th>age</th>\n",
       "      <th>hypertension</th>\n",
       "      <th>heart_disease</th>\n",
       "      <th>ever_married</th>\n",
       "      <th>work_type</th>\n",
       "      <th>Residence_type</th>\n",
       "      <th>avg_glucose_level</th>\n",
       "      <th>bmi</th>\n",
       "      <th>smoking_status</th>\n",
       "      <th>stroke</th>\n",
       "    </tr>\n",
       "  </thead>\n",
       "  <tbody>\n",
       "    <tr>\n",
       "      <th>0</th>\n",
       "      <td>Male</td>\n",
       "      <td>67.0</td>\n",
       "      <td>0</td>\n",
       "      <td>1</td>\n",
       "      <td>Yes</td>\n",
       "      <td>Private</td>\n",
       "      <td>Urban</td>\n",
       "      <td>228.69</td>\n",
       "      <td>36.6</td>\n",
       "      <td>formerly smoked</td>\n",
       "      <td>1</td>\n",
       "    </tr>\n",
       "    <tr>\n",
       "      <th>1</th>\n",
       "      <td>Male</td>\n",
       "      <td>80.0</td>\n",
       "      <td>0</td>\n",
       "      <td>1</td>\n",
       "      <td>Yes</td>\n",
       "      <td>Private</td>\n",
       "      <td>Rural</td>\n",
       "      <td>105.92</td>\n",
       "      <td>32.5</td>\n",
       "      <td>never smoked</td>\n",
       "      <td>1</td>\n",
       "    </tr>\n",
       "    <tr>\n",
       "      <th>2</th>\n",
       "      <td>Female</td>\n",
       "      <td>49.0</td>\n",
       "      <td>0</td>\n",
       "      <td>0</td>\n",
       "      <td>Yes</td>\n",
       "      <td>Private</td>\n",
       "      <td>Urban</td>\n",
       "      <td>171.23</td>\n",
       "      <td>34.4</td>\n",
       "      <td>smokes</td>\n",
       "      <td>1</td>\n",
       "    </tr>\n",
       "    <tr>\n",
       "      <th>3</th>\n",
       "      <td>Female</td>\n",
       "      <td>79.0</td>\n",
       "      <td>1</td>\n",
       "      <td>0</td>\n",
       "      <td>Yes</td>\n",
       "      <td>Self-employed</td>\n",
       "      <td>Rural</td>\n",
       "      <td>174.12</td>\n",
       "      <td>24.0</td>\n",
       "      <td>never smoked</td>\n",
       "      <td>1</td>\n",
       "    </tr>\n",
       "    <tr>\n",
       "      <th>4</th>\n",
       "      <td>Male</td>\n",
       "      <td>81.0</td>\n",
       "      <td>0</td>\n",
       "      <td>0</td>\n",
       "      <td>Yes</td>\n",
       "      <td>Private</td>\n",
       "      <td>Urban</td>\n",
       "      <td>186.21</td>\n",
       "      <td>29.0</td>\n",
       "      <td>formerly smoked</td>\n",
       "      <td>1</td>\n",
       "    </tr>\n",
       "  </tbody>\n",
       "</table>\n",
       "</div>"
      ],
      "text/plain": [
       "   gender   age  hypertension  heart_disease ever_married      work_type  \\\n",
       "0    Male  67.0             0              1          Yes        Private   \n",
       "1    Male  80.0             0              1          Yes        Private   \n",
       "2  Female  49.0             0              0          Yes        Private   \n",
       "3  Female  79.0             1              0          Yes  Self-employed   \n",
       "4    Male  81.0             0              0          Yes        Private   \n",
       "\n",
       "  Residence_type  avg_glucose_level   bmi   smoking_status  stroke  \n",
       "0          Urban             228.69  36.6  formerly smoked       1  \n",
       "1          Rural             105.92  32.5     never smoked       1  \n",
       "2          Urban             171.23  34.4           smokes       1  \n",
       "3          Rural             174.12  24.0     never smoked       1  \n",
       "4          Urban             186.21  29.0  formerly smoked       1  "
      ]
     },
     "execution_count": 383,
     "metadata": {},
     "output_type": "execute_result"
    }
   ],
   "source": [
    "df = pd.read_csv('Desktop/brain stroke/full_data.csv')\n",
    "df.head()"
   ]
  },
  {
   "cell_type": "code",
   "execution_count": 384,
   "id": "ef5f60f8-6d29-4092-bcc3-38ad10ad4f19",
   "metadata": {},
   "outputs": [
    {
     "name": "stdout",
     "output_type": "stream",
     "text": [
      "<class 'pandas.core.frame.DataFrame'>\n",
      "RangeIndex: 4981 entries, 0 to 4980\n",
      "Data columns (total 11 columns):\n",
      " #   Column             Non-Null Count  Dtype  \n",
      "---  ------             --------------  -----  \n",
      " 0   gender             4981 non-null   object \n",
      " 1   age                4981 non-null   float64\n",
      " 2   hypertension       4981 non-null   int64  \n",
      " 3   heart_disease      4981 non-null   int64  \n",
      " 4   ever_married       4981 non-null   object \n",
      " 5   work_type          4981 non-null   object \n",
      " 6   Residence_type     4981 non-null   object \n",
      " 7   avg_glucose_level  4981 non-null   float64\n",
      " 8   bmi                4981 non-null   float64\n",
      " 9   smoking_status     4981 non-null   object \n",
      " 10  stroke             4981 non-null   int64  \n",
      "dtypes: float64(3), int64(3), object(5)\n",
      "memory usage: 428.2+ KB\n"
     ]
    }
   ],
   "source": [
    "df.info()"
   ]
  },
  {
   "cell_type": "code",
   "execution_count": 385,
   "id": "a8c5c58a-19ad-419f-8578-d9e261a5f8c6",
   "metadata": {},
   "outputs": [
    {
     "data": {
      "text/html": [
       "<div>\n",
       "<style scoped>\n",
       "    .dataframe tbody tr th:only-of-type {\n",
       "        vertical-align: middle;\n",
       "    }\n",
       "\n",
       "    .dataframe tbody tr th {\n",
       "        vertical-align: top;\n",
       "    }\n",
       "\n",
       "    .dataframe thead th {\n",
       "        text-align: right;\n",
       "    }\n",
       "</style>\n",
       "<table border=\"1\" class=\"dataframe\">\n",
       "  <thead>\n",
       "    <tr style=\"text-align: right;\">\n",
       "      <th></th>\n",
       "      <th>age</th>\n",
       "      <th>hypertension</th>\n",
       "      <th>heart_disease</th>\n",
       "      <th>avg_glucose_level</th>\n",
       "      <th>bmi</th>\n",
       "      <th>stroke</th>\n",
       "    </tr>\n",
       "  </thead>\n",
       "  <tbody>\n",
       "    <tr>\n",
       "      <th>count</th>\n",
       "      <td>4981.000000</td>\n",
       "      <td>4981.000000</td>\n",
       "      <td>4981.000000</td>\n",
       "      <td>4981.000000</td>\n",
       "      <td>4981.000000</td>\n",
       "      <td>4981.000000</td>\n",
       "    </tr>\n",
       "    <tr>\n",
       "      <th>mean</th>\n",
       "      <td>43.419859</td>\n",
       "      <td>0.096165</td>\n",
       "      <td>0.055210</td>\n",
       "      <td>105.943562</td>\n",
       "      <td>28.498173</td>\n",
       "      <td>0.049789</td>\n",
       "    </tr>\n",
       "    <tr>\n",
       "      <th>std</th>\n",
       "      <td>22.662755</td>\n",
       "      <td>0.294848</td>\n",
       "      <td>0.228412</td>\n",
       "      <td>45.075373</td>\n",
       "      <td>6.790464</td>\n",
       "      <td>0.217531</td>\n",
       "    </tr>\n",
       "    <tr>\n",
       "      <th>min</th>\n",
       "      <td>0.080000</td>\n",
       "      <td>0.000000</td>\n",
       "      <td>0.000000</td>\n",
       "      <td>55.120000</td>\n",
       "      <td>14.000000</td>\n",
       "      <td>0.000000</td>\n",
       "    </tr>\n",
       "    <tr>\n",
       "      <th>25%</th>\n",
       "      <td>25.000000</td>\n",
       "      <td>0.000000</td>\n",
       "      <td>0.000000</td>\n",
       "      <td>77.230000</td>\n",
       "      <td>23.700000</td>\n",
       "      <td>0.000000</td>\n",
       "    </tr>\n",
       "    <tr>\n",
       "      <th>50%</th>\n",
       "      <td>45.000000</td>\n",
       "      <td>0.000000</td>\n",
       "      <td>0.000000</td>\n",
       "      <td>91.850000</td>\n",
       "      <td>28.100000</td>\n",
       "      <td>0.000000</td>\n",
       "    </tr>\n",
       "    <tr>\n",
       "      <th>75%</th>\n",
       "      <td>61.000000</td>\n",
       "      <td>0.000000</td>\n",
       "      <td>0.000000</td>\n",
       "      <td>113.860000</td>\n",
       "      <td>32.600000</td>\n",
       "      <td>0.000000</td>\n",
       "    </tr>\n",
       "    <tr>\n",
       "      <th>max</th>\n",
       "      <td>82.000000</td>\n",
       "      <td>1.000000</td>\n",
       "      <td>1.000000</td>\n",
       "      <td>271.740000</td>\n",
       "      <td>48.900000</td>\n",
       "      <td>1.000000</td>\n",
       "    </tr>\n",
       "  </tbody>\n",
       "</table>\n",
       "</div>"
      ],
      "text/plain": [
       "               age  hypertension  heart_disease  avg_glucose_level  \\\n",
       "count  4981.000000   4981.000000    4981.000000        4981.000000   \n",
       "mean     43.419859      0.096165       0.055210         105.943562   \n",
       "std      22.662755      0.294848       0.228412          45.075373   \n",
       "min       0.080000      0.000000       0.000000          55.120000   \n",
       "25%      25.000000      0.000000       0.000000          77.230000   \n",
       "50%      45.000000      0.000000       0.000000          91.850000   \n",
       "75%      61.000000      0.000000       0.000000         113.860000   \n",
       "max      82.000000      1.000000       1.000000         271.740000   \n",
       "\n",
       "               bmi       stroke  \n",
       "count  4981.000000  4981.000000  \n",
       "mean     28.498173     0.049789  \n",
       "std       6.790464     0.217531  \n",
       "min      14.000000     0.000000  \n",
       "25%      23.700000     0.000000  \n",
       "50%      28.100000     0.000000  \n",
       "75%      32.600000     0.000000  \n",
       "max      48.900000     1.000000  "
      ]
     },
     "execution_count": 385,
     "metadata": {},
     "output_type": "execute_result"
    }
   ],
   "source": [
    "df.describe()"
   ]
  },
  {
   "cell_type": "code",
   "execution_count": 386,
   "id": "f56c0845-ec4c-44db-ba80-9d42303c7449",
   "metadata": {},
   "outputs": [
    {
     "data": {
      "text/plain": [
       "Index(['gender', 'age', 'hypertension', 'heart_disease', 'ever_married',\n",
       "       'work_type', 'Residence_type', 'avg_glucose_level', 'bmi',\n",
       "       'smoking_status', 'stroke'],\n",
       "      dtype='object')"
      ]
     },
     "execution_count": 386,
     "metadata": {},
     "output_type": "execute_result"
    }
   ],
   "source": [
    "df.columns"
   ]
  },
  {
   "cell_type": "code",
   "execution_count": 387,
   "id": "03a426fa-5d13-4492-8122-2c1e0c1e17b6",
   "metadata": {},
   "outputs": [
    {
     "data": {
      "text/plain": [
       "Private          2860\n",
       "Self-employed     804\n",
       "children          673\n",
       "Govt_job          644\n",
       "Name: work_type, dtype: int64"
      ]
     },
     "execution_count": 387,
     "metadata": {},
     "output_type": "execute_result"
    }
   ],
   "source": [
    "df['work_type'].value_counts()"
   ]
  },
  {
   "cell_type": "code",
   "execution_count": 388,
   "id": "177a2b4d-0ec5-4eb9-aedc-be71143f12c9",
   "metadata": {},
   "outputs": [
    {
     "data": {
      "text/plain": [
       "<AxesSubplot:xlabel='smoking_status', ylabel='count'>"
      ]
     },
     "execution_count": 388,
     "metadata": {},
     "output_type": "execute_result"
    },
    {
     "data": {
      "image/png": "[encoded data removed]",
      "text/plain": [
       "<Figure size 1440x720 with 6 Axes>"
      ]
     },
     "metadata": {
      "needs_background": "light"
     },
     "output_type": "display_data"
    }
   ],
   "source": [
    "fig = plt.figure(figsize = (20,10))\n",
    "\n",
    "plt.subplot(2, 3, 1)\n",
    "sns.countplot(x = 'stroke', data = df)\n",
    "\n",
    "plt.subplot(2, 3, 2)\n",
    "sns.countplot(x = 'gender', data=df, hue = 'stroke')\n",
    "\n",
    "plt.subplot(2, 3, 3)\n",
    "sns.countplot(x = 'ever_married', data = df, hue = 'stroke')\n",
    "\n",
    "plt.subplot(2, 3, 4)\n",
    "sns.countplot(x = 'work_type', data= df, hue = 'stroke')\n",
    "\n",
    "plt.subplot(2, 3, 5)\n",
    "sns.countplot(x = 'Residence_type', data=df, hue = 'stroke')\n",
    "\n",
    "plt.subplot(2, 3, 6)\n",
    "sns.countplot(x = 'smoking_status', data=df, hue= 'stroke')\n",
    "\n"
   ]
  },
  {
   "cell_type": "code",
   "execution_count": 389,
   "id": "d1e8c590-da36-459f-af7f-58e3037e4f69",
   "metadata": {},
   "outputs": [
    {
     "data": {
      "text/plain": [
       "<AxesSubplot:>"
      ]
     },
     "execution_count": 389,
     "metadata": {},
     "output_type": "execute_result"
    },
    {
     "data": {
      "image/png": "[encoded data removed]",
      "text/plain": [
       "<Figure size 432x288 with 2 Axes>"
      ]
     },
     "metadata": {
      "needs_background": "light"
     },
     "output_type": "display_data"
    }
   ],
   "source": [
    "df_numerical = df.drop(['gender', 'hypertension', 'heart_disease', 'ever_married',\n",
    "       'work_type', 'Residence_type', 'smoking_status'], axis=1)\n",
    "\n",
    "sns.heatmap(df_numerical.corr()[['stroke']], annot=True)"
   ]
  },
  {
   "cell_type": "code",
   "execution_count": 390,
   "id": "6a3b9300-32f8-4cc8-ac79-de6ab0c1a1d5",
   "metadata": {},
   "outputs": [
    {
     "data": {
      "text/plain": [
       "<AxesSubplot:xlabel='avg_glucose_level', ylabel='Count'>"
      ]
     },
     "execution_count": 390,
     "metadata": {},
     "output_type": "execute_result"
    },
    {
     "data": {
      "image/png": "[encoded data removed]",
      "text/plain": [
       "<Figure size 1224x360 with 3 Axes>"
      ]
     },
     "metadata": {
      "needs_background": "light"
     },
     "output_type": "display_data"
    }
   ],
   "source": [
    "fig = plt.figure(figsize = (17,5))\n",
    "\n",
    "plt.subplot(1, 3, 1)\n",
    "sns.histplot(x='age', data=df, hue='stroke', kde=True)\n",
    "\n",
    "plt.subplot(1, 3, 2)\n",
    "sns.histplot(x='bmi', data=df, hue='stroke', kde=True)\n",
    "\n",
    "plt.subplot(1, 3, 3)\n",
    "sns.histplot(x='avg_glucose_level', data=df, hue='stroke', kde=True)"
   ]
  },
  {
   "cell_type": "markdown",
   "id": "38ec8250-14e2-4697-b815-43414e717b20",
   "metadata": {
    "tags": []
   },
   "source": [
    "## 2. DATA PROCESSING"
   ]
  },
  {
   "cell_type": "code",
   "execution_count": 391,
   "id": "9fcedf26-8aa5-46e1-b2bd-eceab057b34f",
   "metadata": {},
   "outputs": [],
   "source": [
    "from sklearn.preprocessing import StandardScaler"
   ]
  },
  {
   "cell_type": "code",
   "execution_count": 392,
   "id": "72dad20b-d2d0-44c3-8a76-57bded85298a",
   "metadata": {},
   "outputs": [],
   "source": [
    "X_quality = df[['gender', 'hypertension', 'heart_disease', 'ever_married',\n",
    "       'work_type', 'Residence_type', 'smoking_status']]\n",
    "X_quantity = df.drop(['gender', 'hypertension', 'heart_disease', 'ever_married',\n",
    "       'work_type', 'Residence_type', 'smoking_status', 'stroke'], axis=1)"
   ]
  },
  {
   "cell_type": "code",
   "execution_count": 393,
   "id": "a2416de5-002b-4d93-8e9b-c60b38356543",
   "metadata": {},
   "outputs": [],
   "source": [
    "#setting dummy variables\n",
    "\n",
    "X_quality = pd.get_dummies(X_quality) "
   ]
  },
  {
   "cell_type": "code",
   "execution_count": 394,
   "id": "9f2fde5a-2e67-41e0-8ce6-4f4b36c1d5d6",
   "metadata": {},
   "outputs": [
    {
     "data": {
      "text/html": [
       "<div>\n",
       "<style scoped>\n",
       "    .dataframe tbody tr th:only-of-type {\n",
       "        vertical-align: middle;\n",
       "    }\n",
       "\n",
       "    .dataframe tbody tr th {\n",
       "        vertical-align: top;\n",
       "    }\n",
       "\n",
       "    .dataframe thead th {\n",
       "        text-align: right;\n",
       "    }\n",
       "</style>\n",
       "<table border=\"1\" class=\"dataframe\">\n",
       "  <thead>\n",
       "    <tr style=\"text-align: right;\">\n",
       "      <th></th>\n",
       "      <th>hypertension</th>\n",
       "      <th>heart_disease</th>\n",
       "      <th>gender_Female</th>\n",
       "      <th>gender_Male</th>\n",
       "      <th>ever_married_No</th>\n",
       "      <th>ever_married_Yes</th>\n",
       "      <th>work_type_Govt_job</th>\n",
       "      <th>work_type_Private</th>\n",
       "      <th>work_type_Self-employed</th>\n",
       "      <th>work_type_children</th>\n",
       "      <th>Residence_type_Rural</th>\n",
       "      <th>Residence_type_Urban</th>\n",
       "      <th>smoking_status_Unknown</th>\n",
       "      <th>smoking_status_formerly smoked</th>\n",
       "      <th>smoking_status_never smoked</th>\n",
       "      <th>smoking_status_smokes</th>\n",
       "    </tr>\n",
       "  </thead>\n",
       "  <tbody>\n",
       "    <tr>\n",
       "      <th>0</th>\n",
       "      <td>0</td>\n",
       "      <td>1</td>\n",
       "      <td>0</td>\n",
       "      <td>1</td>\n",
       "      <td>0</td>\n",
       "      <td>1</td>\n",
       "      <td>0</td>\n",
       "      <td>1</td>\n",
       "      <td>0</td>\n",
       "      <td>0</td>\n",
       "      <td>0</td>\n",
       "      <td>1</td>\n",
       "      <td>0</td>\n",
       "      <td>1</td>\n",
       "      <td>0</td>\n",
       "      <td>0</td>\n",
       "    </tr>\n",
       "    <tr>\n",
       "      <th>1</th>\n",
       "      <td>0</td>\n",
       "      <td>1</td>\n",
       "      <td>0</td>\n",
       "      <td>1</td>\n",
       "      <td>0</td>\n",
       "      <td>1</td>\n",
       "      <td>0</td>\n",
       "      <td>1</td>\n",
       "      <td>0</td>\n",
       "      <td>0</td>\n",
       "      <td>1</td>\n",
       "      <td>0</td>\n",
       "      <td>0</td>\n",
       "      <td>0</td>\n",
       "      <td>1</td>\n",
       "      <td>0</td>\n",
       "    </tr>\n",
       "    <tr>\n",
       "      <th>2</th>\n",
       "      <td>0</td>\n",
       "      <td>0</td>\n",
       "      <td>1</td>\n",
       "      <td>0</td>\n",
       "      <td>0</td>\n",
       "      <td>1</td>\n",
       "      <td>0</td>\n",
       "      <td>1</td>\n",
       "      <td>0</td>\n",
       "      <td>0</td>\n",
       "      <td>0</td>\n",
       "      <td>1</td>\n",
       "      <td>0</td>\n",
       "      <td>0</td>\n",
       "      <td>0</td>\n",
       "      <td>1</td>\n",
       "    </tr>\n",
       "    <tr>\n",
       "      <th>3</th>\n",
       "      <td>1</td>\n",
       "      <td>0</td>\n",
       "      <td>1</td>\n",
       "      <td>0</td>\n",
       "      <td>0</td>\n",
       "      <td>1</td>\n",
       "      <td>0</td>\n",
       "      <td>0</td>\n",
       "      <td>1</td>\n",
       "      <td>0</td>\n",
       "      <td>1</td>\n",
       "      <td>0</td>\n",
       "      <td>0</td>\n",
       "      <td>0</td>\n",
       "      <td>1</td>\n",
       "      <td>0</td>\n",
       "    </tr>\n",
       "    <tr>\n",
       "      <th>4</th>\n",
       "      <td>0</td>\n",
       "      <td>0</td>\n",
       "      <td>0</td>\n",
       "      <td>1</td>\n",
       "      <td>0</td>\n",
       "      <td>1</td>\n",
       "      <td>0</td>\n",
       "      <td>1</td>\n",
       "      <td>0</td>\n",
       "      <td>0</td>\n",
       "      <td>0</td>\n",
       "      <td>1</td>\n",
       "      <td>0</td>\n",
       "      <td>1</td>\n",
       "      <td>0</td>\n",
       "      <td>0</td>\n",
       "    </tr>\n",
       "  </tbody>\n",
       "</table>\n",
       "</div>"
      ],
      "text/plain": [
       "   hypertension  heart_disease  gender_Female  gender_Male  ever_married_No  \\\n",
       "0             0              1              0            1                0   \n",
       "1             0              1              0            1                0   \n",
       "2             0              0              1            0                0   \n",
       "3             1              0              1            0                0   \n",
       "4             0              0              0            1                0   \n",
       "\n",
       "   ever_married_Yes  work_type_Govt_job  work_type_Private  \\\n",
       "0                 1                   0                  1   \n",
       "1                 1                   0                  1   \n",
       "2                 1                   0                  1   \n",
       "3                 1                   0                  0   \n",
       "4                 1                   0                  1   \n",
       "\n",
       "   work_type_Self-employed  work_type_children  Residence_type_Rural  \\\n",
       "0                        0                   0                     0   \n",
       "1                        0                   0                     1   \n",
       "2                        0                   0                     0   \n",
       "3                        1                   0                     1   \n",
       "4                        0                   0                     0   \n",
       "\n",
       "   Residence_type_Urban  smoking_status_Unknown  \\\n",
       "0                     1                       0   \n",
       "1                     0                       0   \n",
       "2                     1                       0   \n",
       "3                     0                       0   \n",
       "4                     1                       0   \n",
       "\n",
       "   smoking_status_formerly smoked  smoking_status_never smoked  \\\n",
       "0                               1                            0   \n",
       "1                               0                            1   \n",
       "2                               0                            0   \n",
       "3                               0                            1   \n",
       "4                               1                            0   \n",
       "\n",
       "   smoking_status_smokes  \n",
       "0                      0  \n",
       "1                      0  \n",
       "2                      1  \n",
       "3                      0  \n",
       "4                      0  "
      ]
     },
     "execution_count": 394,
     "metadata": {},
     "output_type": "execute_result"
    }
   ],
   "source": [
    "X_quality.head()"
   ]
  },
  {
   "cell_type": "code",
   "execution_count": 395,
   "id": "ab7ab2df-0c05-4474-b514-9ec97a0e1bc7",
   "metadata": {},
   "outputs": [
    {
     "data": {
      "text/html": [
       "<div>\n",
       "<style scoped>\n",
       "    .dataframe tbody tr th:only-of-type {\n",
       "        vertical-align: middle;\n",
       "    }\n",
       "\n",
       "    .dataframe tbody tr th {\n",
       "        vertical-align: top;\n",
       "    }\n",
       "\n",
       "    .dataframe thead th {\n",
       "        text-align: right;\n",
       "    }\n",
       "</style>\n",
       "<table border=\"1\" class=\"dataframe\">\n",
       "  <thead>\n",
       "    <tr style=\"text-align: right;\">\n",
       "      <th></th>\n",
       "      <th>age</th>\n",
       "      <th>avg_glucose_level</th>\n",
       "      <th>bmi</th>\n",
       "    </tr>\n",
       "  </thead>\n",
       "  <tbody>\n",
       "    <tr>\n",
       "      <th>0</th>\n",
       "      <td>1.040584</td>\n",
       "      <td>2.723411</td>\n",
       "      <td>1.193238</td>\n",
       "    </tr>\n",
       "    <tr>\n",
       "      <th>1</th>\n",
       "      <td>1.614270</td>\n",
       "      <td>-0.000523</td>\n",
       "      <td>0.589390</td>\n",
       "    </tr>\n",
       "    <tr>\n",
       "      <th>2</th>\n",
       "      <td>0.246250</td>\n",
       "      <td>1.448529</td>\n",
       "      <td>0.869222</td>\n",
       "    </tr>\n",
       "    <tr>\n",
       "      <th>3</th>\n",
       "      <td>1.570141</td>\n",
       "      <td>1.512650</td>\n",
       "      <td>-0.662492</td>\n",
       "    </tr>\n",
       "    <tr>\n",
       "      <th>4</th>\n",
       "      <td>1.658400</td>\n",
       "      <td>1.780895</td>\n",
       "      <td>0.073909</td>\n",
       "    </tr>\n",
       "    <tr>\n",
       "      <th>...</th>\n",
       "      <td>...</td>\n",
       "      <td>...</td>\n",
       "      <td>...</td>\n",
       "    </tr>\n",
       "    <tr>\n",
       "      <th>4976</th>\n",
       "      <td>-0.106788</td>\n",
       "      <td>-0.794162</td>\n",
       "      <td>0.191733</td>\n",
       "    </tr>\n",
       "    <tr>\n",
       "      <th>4977</th>\n",
       "      <td>-0.150917</td>\n",
       "      <td>1.890500</td>\n",
       "      <td>0.383197</td>\n",
       "    </tr>\n",
       "    <tr>\n",
       "      <th>4978</th>\n",
       "      <td>0.069731</td>\n",
       "      <td>-0.242364</td>\n",
       "      <td>0.486294</td>\n",
       "    </tr>\n",
       "    <tr>\n",
       "      <th>4979</th>\n",
       "      <td>-0.150917</td>\n",
       "      <td>-0.488199</td>\n",
       "      <td>0.221189</td>\n",
       "    </tr>\n",
       "    <tr>\n",
       "      <th>4980</th>\n",
       "      <td>1.614270</td>\n",
       "      <td>-0.492415</td>\n",
       "      <td>0.088637</td>\n",
       "    </tr>\n",
       "  </tbody>\n",
       "</table>\n",
       "<p>4981 rows × 3 columns</p>\n",
       "</div>"
      ],
      "text/plain": [
       "           age  avg_glucose_level       bmi\n",
       "0     1.040584           2.723411  1.193238\n",
       "1     1.614270          -0.000523  0.589390\n",
       "2     0.246250           1.448529  0.869222\n",
       "3     1.570141           1.512650 -0.662492\n",
       "4     1.658400           1.780895  0.073909\n",
       "...        ...                ...       ...\n",
       "4976 -0.106788          -0.794162  0.191733\n",
       "4977 -0.150917           1.890500  0.383197\n",
       "4978  0.069731          -0.242364  0.486294\n",
       "4979 -0.150917          -0.488199  0.221189\n",
       "4980  1.614270          -0.492415  0.088637\n",
       "\n",
       "[4981 rows x 3 columns]"
      ]
     },
     "execution_count": 395,
     "metadata": {},
     "output_type": "execute_result"
    }
   ],
   "source": [
    "# Standardization\n",
    "\n",
    "scaler = StandardScaler()\n",
    "scaler.fit(X_quantity)\n",
    "X_scaled = scaler.transform(X_quantity)\n",
    "X_scaled = pd.DataFrame(X_scaled, index=X_quantity.index, columns=X_quantity.columns)\n",
    "X_scaled"
   ]
  },
  {
   "cell_type": "code",
   "execution_count": 396,
   "id": "25924b20-3c9c-4eb7-9270-5f21bcdec4e2",
   "metadata": {},
   "outputs": [
    {
     "data": {
      "text/html": [
       "<div>\n",
       "<style scoped>\n",
       "    .dataframe tbody tr th:only-of-type {\n",
       "        vertical-align: middle;\n",
       "    }\n",
       "\n",
       "    .dataframe tbody tr th {\n",
       "        vertical-align: top;\n",
       "    }\n",
       "\n",
       "    .dataframe thead th {\n",
       "        text-align: right;\n",
       "    }\n",
       "</style>\n",
       "<table border=\"1\" class=\"dataframe\">\n",
       "  <thead>\n",
       "    <tr style=\"text-align: right;\">\n",
       "      <th></th>\n",
       "      <th>age</th>\n",
       "      <th>avg_glucose_level</th>\n",
       "      <th>bmi</th>\n",
       "      <th>hypertension</th>\n",
       "      <th>heart_disease</th>\n",
       "      <th>gender_Female</th>\n",
       "      <th>gender_Male</th>\n",
       "      <th>ever_married_No</th>\n",
       "      <th>ever_married_Yes</th>\n",
       "      <th>work_type_Govt_job</th>\n",
       "      <th>work_type_Private</th>\n",
       "      <th>work_type_Self-employed</th>\n",
       "      <th>work_type_children</th>\n",
       "      <th>Residence_type_Rural</th>\n",
       "      <th>Residence_type_Urban</th>\n",
       "      <th>smoking_status_Unknown</th>\n",
       "      <th>smoking_status_formerly smoked</th>\n",
       "      <th>smoking_status_never smoked</th>\n",
       "      <th>smoking_status_smokes</th>\n",
       "    </tr>\n",
       "  </thead>\n",
       "  <tbody>\n",
       "    <tr>\n",
       "      <th>0</th>\n",
       "      <td>1.040584</td>\n",
       "      <td>2.723411</td>\n",
       "      <td>1.193238</td>\n",
       "      <td>0</td>\n",
       "      <td>1</td>\n",
       "      <td>0</td>\n",
       "      <td>1</td>\n",
       "      <td>0</td>\n",
       "      <td>1</td>\n",
       "      <td>0</td>\n",
       "      <td>1</td>\n",
       "      <td>0</td>\n",
       "      <td>0</td>\n",
       "      <td>0</td>\n",
       "      <td>1</td>\n",
       "      <td>0</td>\n",
       "      <td>1</td>\n",
       "      <td>0</td>\n",
       "      <td>0</td>\n",
       "    </tr>\n",
       "    <tr>\n",
       "      <th>1</th>\n",
       "      <td>1.614270</td>\n",
       "      <td>-0.000523</td>\n",
       "      <td>0.589390</td>\n",
       "      <td>0</td>\n",
       "      <td>1</td>\n",
       "      <td>0</td>\n",
       "      <td>1</td>\n",
       "      <td>0</td>\n",
       "      <td>1</td>\n",
       "      <td>0</td>\n",
       "      <td>1</td>\n",
       "      <td>0</td>\n",
       "      <td>0</td>\n",
       "      <td>1</td>\n",
       "      <td>0</td>\n",
       "      <td>0</td>\n",
       "      <td>0</td>\n",
       "      <td>1</td>\n",
       "      <td>0</td>\n",
       "    </tr>\n",
       "    <tr>\n",
       "      <th>2</th>\n",
       "      <td>0.246250</td>\n",
       "      <td>1.448529</td>\n",
       "      <td>0.869222</td>\n",
       "      <td>0</td>\n",
       "      <td>0</td>\n",
       "      <td>1</td>\n",
       "      <td>0</td>\n",
       "      <td>0</td>\n",
       "      <td>1</td>\n",
       "      <td>0</td>\n",
       "      <td>1</td>\n",
       "      <td>0</td>\n",
       "      <td>0</td>\n",
       "      <td>0</td>\n",
       "      <td>1</td>\n",
       "      <td>0</td>\n",
       "      <td>0</td>\n",
       "      <td>0</td>\n",
       "      <td>1</td>\n",
       "    </tr>\n",
       "    <tr>\n",
       "      <th>3</th>\n",
       "      <td>1.570141</td>\n",
       "      <td>1.512650</td>\n",
       "      <td>-0.662492</td>\n",
       "      <td>1</td>\n",
       "      <td>0</td>\n",
       "      <td>1</td>\n",
       "      <td>0</td>\n",
       "      <td>0</td>\n",
       "      <td>1</td>\n",
       "      <td>0</td>\n",
       "      <td>0</td>\n",
       "      <td>1</td>\n",
       "      <td>0</td>\n",
       "      <td>1</td>\n",
       "      <td>0</td>\n",
       "      <td>0</td>\n",
       "      <td>0</td>\n",
       "      <td>1</td>\n",
       "      <td>0</td>\n",
       "    </tr>\n",
       "    <tr>\n",
       "      <th>4</th>\n",
       "      <td>1.658400</td>\n",
       "      <td>1.780895</td>\n",
       "      <td>0.073909</td>\n",
       "      <td>0</td>\n",
       "      <td>0</td>\n",
       "      <td>0</td>\n",
       "      <td>1</td>\n",
       "      <td>0</td>\n",
       "      <td>1</td>\n",
       "      <td>0</td>\n",
       "      <td>1</td>\n",
       "      <td>0</td>\n",
       "      <td>0</td>\n",
       "      <td>0</td>\n",
       "      <td>1</td>\n",
       "      <td>0</td>\n",
       "      <td>1</td>\n",
       "      <td>0</td>\n",
       "      <td>0</td>\n",
       "    </tr>\n",
       "    <tr>\n",
       "      <th>...</th>\n",
       "      <td>...</td>\n",
       "      <td>...</td>\n",
       "      <td>...</td>\n",
       "      <td>...</td>\n",
       "      <td>...</td>\n",
       "      <td>...</td>\n",
       "      <td>...</td>\n",
       "      <td>...</td>\n",
       "      <td>...</td>\n",
       "      <td>...</td>\n",
       "      <td>...</td>\n",
       "      <td>...</td>\n",
       "      <td>...</td>\n",
       "      <td>...</td>\n",
       "      <td>...</td>\n",
       "      <td>...</td>\n",
       "      <td>...</td>\n",
       "      <td>...</td>\n",
       "      <td>...</td>\n",
       "    </tr>\n",
       "    <tr>\n",
       "      <th>4976</th>\n",
       "      <td>-0.106788</td>\n",
       "      <td>-0.794162</td>\n",
       "      <td>0.191733</td>\n",
       "      <td>0</td>\n",
       "      <td>0</td>\n",
       "      <td>0</td>\n",
       "      <td>1</td>\n",
       "      <td>1</td>\n",
       "      <td>0</td>\n",
       "      <td>0</td>\n",
       "      <td>1</td>\n",
       "      <td>0</td>\n",
       "      <td>0</td>\n",
       "      <td>1</td>\n",
       "      <td>0</td>\n",
       "      <td>0</td>\n",
       "      <td>1</td>\n",
       "      <td>0</td>\n",
       "      <td>0</td>\n",
       "    </tr>\n",
       "    <tr>\n",
       "      <th>4977</th>\n",
       "      <td>-0.150917</td>\n",
       "      <td>1.890500</td>\n",
       "      <td>0.383197</td>\n",
       "      <td>0</td>\n",
       "      <td>0</td>\n",
       "      <td>0</td>\n",
       "      <td>1</td>\n",
       "      <td>0</td>\n",
       "      <td>1</td>\n",
       "      <td>0</td>\n",
       "      <td>1</td>\n",
       "      <td>0</td>\n",
       "      <td>0</td>\n",
       "      <td>0</td>\n",
       "      <td>1</td>\n",
       "      <td>0</td>\n",
       "      <td>0</td>\n",
       "      <td>0</td>\n",
       "      <td>1</td>\n",
       "    </tr>\n",
       "    <tr>\n",
       "      <th>4978</th>\n",
       "      <td>0.069731</td>\n",
       "      <td>-0.242364</td>\n",
       "      <td>0.486294</td>\n",
       "      <td>1</td>\n",
       "      <td>0</td>\n",
       "      <td>1</td>\n",
       "      <td>0</td>\n",
       "      <td>0</td>\n",
       "      <td>1</td>\n",
       "      <td>1</td>\n",
       "      <td>0</td>\n",
       "      <td>0</td>\n",
       "      <td>0</td>\n",
       "      <td>1</td>\n",
       "      <td>0</td>\n",
       "      <td>0</td>\n",
       "      <td>0</td>\n",
       "      <td>0</td>\n",
       "      <td>1</td>\n",
       "    </tr>\n",
       "    <tr>\n",
       "      <th>4979</th>\n",
       "      <td>-0.150917</td>\n",
       "      <td>-0.488199</td>\n",
       "      <td>0.221189</td>\n",
       "      <td>0</td>\n",
       "      <td>0</td>\n",
       "      <td>0</td>\n",
       "      <td>1</td>\n",
       "      <td>0</td>\n",
       "      <td>1</td>\n",
       "      <td>0</td>\n",
       "      <td>1</td>\n",
       "      <td>0</td>\n",
       "      <td>0</td>\n",
       "      <td>1</td>\n",
       "      <td>0</td>\n",
       "      <td>0</td>\n",
       "      <td>0</td>\n",
       "      <td>0</td>\n",
       "      <td>1</td>\n",
       "    </tr>\n",
       "    <tr>\n",
       "      <th>4980</th>\n",
       "      <td>1.614270</td>\n",
       "      <td>-0.492415</td>\n",
       "      <td>0.088637</td>\n",
       "      <td>1</td>\n",
       "      <td>0</td>\n",
       "      <td>1</td>\n",
       "      <td>0</td>\n",
       "      <td>0</td>\n",
       "      <td>1</td>\n",
       "      <td>0</td>\n",
       "      <td>1</td>\n",
       "      <td>0</td>\n",
       "      <td>0</td>\n",
       "      <td>0</td>\n",
       "      <td>1</td>\n",
       "      <td>0</td>\n",
       "      <td>0</td>\n",
       "      <td>1</td>\n",
       "      <td>0</td>\n",
       "    </tr>\n",
       "  </tbody>\n",
       "</table>\n",
       "<p>4981 rows × 19 columns</p>\n",
       "</div>"
      ],
      "text/plain": [
       "           age  avg_glucose_level       bmi  hypertension  heart_disease  \\\n",
       "0     1.040584           2.723411  1.193238             0              1   \n",
       "1     1.614270          -0.000523  0.589390             0              1   \n",
       "2     0.246250           1.448529  0.869222             0              0   \n",
       "3     1.570141           1.512650 -0.662492             1              0   \n",
       "4     1.658400           1.780895  0.073909             0              0   \n",
       "...        ...                ...       ...           ...            ...   \n",
       "4976 -0.106788          -0.794162  0.191733             0              0   \n",
       "4977 -0.150917           1.890500  0.383197             0              0   \n",
       "4978  0.069731          -0.242364  0.486294             1              0   \n",
       "4979 -0.150917          -0.488199  0.221189             0              0   \n",
       "4980  1.614270          -0.492415  0.088637             1              0   \n",
       "\n",
       "      gender_Female  gender_Male  ever_married_No  ever_married_Yes  \\\n",
       "0                 0            1                0                 1   \n",
       "1                 0            1                0                 1   \n",
       "2                 1            0                0                 1   \n",
       "3                 1            0                0                 1   \n",
       "4                 0            1                0                 1   \n",
       "...             ...          ...              ...               ...   \n",
       "4976              0            1                1                 0   \n",
       "4977              0            1                0                 1   \n",
       "4978              1            0                0                 1   \n",
       "4979              0            1                0                 1   \n",
       "4980              1            0                0                 1   \n",
       "\n",
       "      work_type_Govt_job  work_type_Private  work_type_Self-employed  \\\n",
       "0                      0                  1                        0   \n",
       "1                      0                  1                        0   \n",
       "2                      0                  1                        0   \n",
       "3                      0                  0                        1   \n",
       "4                      0                  1                        0   \n",
       "...                  ...                ...                      ...   \n",
       "4976                   0                  1                        0   \n",
       "4977                   0                  1                        0   \n",
       "4978                   1                  0                        0   \n",
       "4979                   0                  1                        0   \n",
       "4980                   0                  1                        0   \n",
       "\n",
       "      work_type_children  Residence_type_Rural  Residence_type_Urban  \\\n",
       "0                      0                     0                     1   \n",
       "1                      0                     1                     0   \n",
       "2                      0                     0                     1   \n",
       "3                      0                     1                     0   \n",
       "4                      0                     0                     1   \n",
       "...                  ...                   ...                   ...   \n",
       "4976                   0                     1                     0   \n",
       "4977                   0                     0                     1   \n",
       "4978                   0                     1                     0   \n",
       "4979                   0                     1                     0   \n",
       "4980                   0                     0                     1   \n",
       "\n",
       "      smoking_status_Unknown  smoking_status_formerly smoked  \\\n",
       "0                          0                               1   \n",
       "1                          0                               0   \n",
       "2                          0                               0   \n",
       "3                          0                               0   \n",
       "4                          0                               1   \n",
       "...                      ...                             ...   \n",
       "4976                       0                               1   \n",
       "4977                       0                               0   \n",
       "4978                       0                               0   \n",
       "4979                       0                               0   \n",
       "4980                       0                               0   \n",
       "\n",
       "      smoking_status_never smoked  smoking_status_smokes  \n",
       "0                               0                      0  \n",
       "1                               1                      0  \n",
       "2                               0                      1  \n",
       "3                               1                      0  \n",
       "4                               0                      0  \n",
       "...                           ...                    ...  \n",
       "4976                            0                      0  \n",
       "4977                            0                      1  \n",
       "4978                            0                      1  \n",
       "4979                            0                      1  \n",
       "4980                            1                      0  \n",
       "\n",
       "[4981 rows x 19 columns]"
      ]
     },
     "execution_count": 396,
     "metadata": {},
     "output_type": "execute_result"
    }
   ],
   "source": [
    "# Combination, get train dataset X and y\n",
    "X = pd.concat([X_scaled, X_quality], axis=1)\n",
    "y=df['stroke']\n",
    "X"
   ]
  },
  {
   "cell_type": "markdown",
   "id": "7813cc7d-268b-482f-835b-8008d91ac90e",
   "metadata": {
    "tags": []
   },
   "source": [
    "## 3. TRYING DIFFERENT MODELS"
   ]
  },
  {
   "cell_type": "markdown",
   "id": "7ab4b1ef-f36f-4234-9d30-12637f629df7",
   "metadata": {
    "tags": []
   },
   "source": [
    "### 3.1 XGBoost"
   ]
  },
  {
   "cell_type": "code",
   "execution_count": 397,
   "id": "fd87ff5d-e6ee-49bf-8b0b-954426723ce3",
   "metadata": {},
   "outputs": [],
   "source": [
    "# %pip install xgboost"
   ]
  },
  {
   "cell_type": "code",
   "execution_count": 398,
   "id": "8fc9c504-c047-4f3f-9b8d-02e1899b5311",
   "metadata": {},
   "outputs": [],
   "source": [
    "from sklearn.model_selection import train_test_split\n",
    "from xgboost import XGBClassifier\n",
    "from sklearn.metrics import classification_report\n",
    "from sklearn.metrics import confusion_matrix, accuracy_score"
   ]
  },
  {
   "cell_type": "code",
   "execution_count": 399,
   "id": "9db5eea8-dcfd-4031-813d-e8ecf194f1a6",
   "metadata": {},
   "outputs": [
    {
     "name": "stdout",
     "output_type": "stream",
     "text": [
      "Training dataset amount: 3486\n",
      "Testing dataset amount: 1495\n"
     ]
    }
   ],
   "source": [
    "# spliting training dataset and testing dataset\n",
    "\n",
    "X_train, X_test, y_train, y_test = train_test_split(X, y, test_size=0.3, random_state=1)\n",
    "print('Training dataset amount:', X_train['age'].count())\n",
    "print('Testing dataset amount:',X_test['age'].count())"
   ]
  },
  {
   "cell_type": "code",
   "execution_count": 400,
   "id": "a83c03f5-a343-47fd-ae21-64429e95b20a",
   "metadata": {},
   "outputs": [
    {
     "data": {
      "text/plain": [
       "XGBClassifier(base_score=0.5, booster='gbtree', callbacks=None,\n",
       "              colsample_bylevel=1, colsample_bynode=1, colsample_bytree=1,\n",
       "              early_stopping_rounds=None, enable_categorical=False,\n",
       "              eval_metric=None, gamma=0, gpu_id=-1, grow_policy='depthwise',\n",
       "              importance_type=None, interaction_constraints='',\n",
       "              learning_rate=0.300000012, max_bin=256, max_cat_to_onehot=4,\n",
       "              max_delta_step=0, max_depth=6, max_leaves=0, min_child_weight=1,\n",
       "              missing=nan, monotone_constraints='()', n_estimators=100,\n",
       "              n_jobs=0, num_parallel_tree=1, predictor='auto', random_state=0,\n",
       "              reg_alpha=0, reg_lambda=1, ...)"
      ]
     },
     "execution_count": 400,
     "metadata": {},
     "output_type": "execute_result"
    }
   ],
   "source": [
    "model_xgb = XGBClassifier()\n",
    "model_xgb.fit(X_train, y_train)"
   ]
  },
  {
   "cell_type": "code",
   "execution_count": 401,
   "id": "99b817f8-c3b0-4e16-84d4-4cb815b4d0b9",
   "metadata": {},
   "outputs": [
    {
     "name": "stdout",
     "output_type": "stream",
     "text": [
      "              precision    recall  f1-score   support\n",
      "\n",
      "           0       0.95      0.99      0.97      1418\n",
      "           1       0.08      0.01      0.02        77\n",
      "\n",
      "    accuracy                           0.94      1495\n",
      "   macro avg       0.52      0.50      0.50      1495\n",
      "weighted avg       0.90      0.94      0.92      1495\n",
      "\n"
     ]
    }
   ],
   "source": [
    "pred = model_xgb.predict(X_test)\n",
    "print(classification_report(y_test, pred))"
   ]
  },
  {
   "cell_type": "code",
   "execution_count": 402,
   "id": "8c3afd39-1b17-4cc0-aaeb-a95268f4cb70",
   "metadata": {},
   "outputs": [
    {
     "data": {
      "image/png": "[encoded data removed]",
      "text/plain": [
       "<Figure size 1224x648 with 1 Axes>"
      ]
     },
     "metadata": {
      "needs_background": "light"
     },
     "output_type": "display_data"
    }
   ],
   "source": [
    "# show important features\n",
    "\n",
    "fig = plt.figure(figsize=(17,9))\n",
    "plt.barh(X.columns, model_xgb.feature_importances_)\n",
    "plt.show()"
   ]
  },
  {
   "cell_type": "code",
   "execution_count": 403,
   "id": "153a4126-2c6d-4d0f-a133-2a0f97cdbac6",
   "metadata": {},
   "outputs": [
    {
     "data": {
      "image/png": "[encoded data removed]",
      "text/plain": [
       "<Figure size 432x288 with 2 Axes>"
      ]
     },
     "metadata": {
      "needs_background": "light"
     },
     "output_type": "display_data"
    }
   ],
   "source": [
    "cm = confusion_matrix(y_test, pred)\n",
    "\n",
    "ax = sns.heatmap(cm, annot=True, cmap='Blues')\n",
    "\n",
    "ax.set_title('XGBoost Confusion Matrix\\n\\n');\n",
    "ax.set_xlabel('\\nPredicted Values')\n",
    "ax.set_ylabel('Actual Values ');\n",
    "\n",
    "ax.xaxis.set_ticklabels(['False','True'])\n",
    "ax.yaxis.set_ticklabels(['False','True'])\n",
    "\n",
    "plt.show()"
   ]
  },
  {
   "cell_type": "code",
   "execution_count": 404,
   "id": "0503e6a8-9d1e-428b-92fb-9b172af3253e",
   "metadata": {},
   "outputs": [],
   "source": [
    "# Record scores of each model\n",
    "scores = []\n",
    "\n",
    "xg_score = float(str(accuracy_score(y_test, pred) * 100)[:5])\n",
    "scores.append(('XGBoost',xg_score))"
   ]
  },
  {
   "cell_type": "code",
   "execution_count": 405,
   "id": "791da6ef-9c47-4190-87fe-b4c4b530ebca",
   "metadata": {},
   "outputs": [],
   "source": [
    "# prediction on brain stroke patients does not perform well, the precision is only 0.08\n",
    "# need to consider hyperparameter tuning\n",
    "# will do this task latter"
   ]
  },
  {
   "cell_type": "markdown",
   "id": "12b42032-6c2d-4c08-8c1a-9f5e5008c01b",
   "metadata": {
    "tags": []
   },
   "source": [
    "### 3.2 Logistic Regression"
   ]
  },
  {
   "cell_type": "code",
   "execution_count": 406,
   "id": "d30bdc2f-4c41-4a9f-9de2-b212ffd3e670",
   "metadata": {},
   "outputs": [],
   "source": [
    "from sklearn.linear_model import LogisticRegression\n"
   ]
  },
  {
   "cell_type": "code",
   "execution_count": 407,
   "id": "13037fd1-03d1-41bf-b624-c1d666fa403f",
   "metadata": {},
   "outputs": [],
   "source": [
    "classifier = LogisticRegression(random_state = 0)\n",
    "classifier.fit(X_train, y_train)\n",
    "\n",
    "y_pred = classifier.predict(X_test)"
   ]
  },
  {
   "cell_type": "code",
   "execution_count": 408,
   "id": "05dc05c6-a1bd-4673-845e-eb9d0695de17",
   "metadata": {},
   "outputs": [
    {
     "name": "stdout",
     "output_type": "stream",
     "text": [
      "              precision    recall  f1-score   support\n",
      "\n",
      "           0       0.95      1.00      0.97      1418\n",
      "           1       1.00      0.01      0.03        77\n",
      "\n",
      "    accuracy                           0.95      1495\n",
      "   macro avg       0.97      0.51      0.50      1495\n",
      "weighted avg       0.95      0.95      0.93      1495\n",
      "\n"
     ]
    }
   ],
   "source": [
    "print(classification_report(y_test, y_pred))"
   ]
  },
  {
   "cell_type": "code",
   "execution_count": 409,
   "id": "d94ed5dd-c155-4fd2-8abf-363f6890ad18",
   "metadata": {},
   "outputs": [
    {
     "data": {
      "text/plain": [
       "94.91"
      ]
     },
     "execution_count": 409,
     "metadata": {},
     "output_type": "execute_result"
    }
   ],
   "source": [
    "cm = confusion_matrix(y_test, y_pred)\n",
    "\n",
    "lr_score = float(str(accuracy_score(y_test, y_pred) * 100)[:5])\n",
    "scores.append(('Logistic Regression',lr_score))\n",
    "lr_score"
   ]
  },
  {
   "cell_type": "code",
   "execution_count": 410,
   "id": "a790a21c-c06c-42a1-9443-a11c447b7384",
   "metadata": {},
   "outputs": [
    {
     "data": {
      "image/png": "[encoded data removed]",
      "text/plain": [
       "<Figure size 432x288 with 2 Axes>"
      ]
     },
     "metadata": {
      "needs_background": "light"
     },
     "output_type": "display_data"
    }
   ],
   "source": [
    "ax = sns.heatmap(cm, annot=True, cmap='Blues')\n",
    "\n",
    "ax.set_title('Linear Regression Confusion Matrix\\n\\n');\n",
    "ax.set_xlabel('\\nPredicted Values')\n",
    "ax.set_ylabel('Actual Values ');\n",
    "\n",
    "ax.xaxis.set_ticklabels(['False','True'])\n",
    "ax.yaxis.set_ticklabels(['False','True'])\n",
    "\n",
    "plt.show()"
   ]
  },
  {
   "cell_type": "markdown",
   "id": "389410cc-62e7-43c1-a7c4-56a8e78dbb48",
   "metadata": {
    "tags": []
   },
   "source": [
    "### 3.3 Decision Tree"
   ]
  },
  {
   "cell_type": "code",
   "execution_count": 411,
   "id": "272ecda5-f850-48d9-97de-f6859b3be742",
   "metadata": {},
   "outputs": [],
   "source": [
    "from sklearn.tree import DecisionTreeClassifier"
   ]
  },
  {
   "cell_type": "code",
   "execution_count": 412,
   "id": "52416faa-2c16-4e01-a0de-c214cb3ed8c9",
   "metadata": {},
   "outputs": [],
   "source": [
    "classifier = DecisionTreeClassifier(criterion = 'entropy', random_state = 0)\n",
    "classifier.fit(X_train, y_train)\n",
    "\n",
    "y_pred = classifier.predict(X_test)"
   ]
  },
  {
   "cell_type": "code",
   "execution_count": 413,
   "id": "65f34d33-912c-4a80-af4b-5acbd3532558",
   "metadata": {},
   "outputs": [
    {
     "name": "stdout",
     "output_type": "stream",
     "text": [
      "              precision    recall  f1-score   support\n",
      "\n",
      "           0       0.95      0.95      0.95      1418\n",
      "           1       0.14      0.14      0.14        77\n",
      "\n",
      "    accuracy                           0.91      1495\n",
      "   macro avg       0.55      0.55      0.55      1495\n",
      "weighted avg       0.91      0.91      0.91      1495\n",
      "\n"
     ]
    }
   ],
   "source": [
    "print(classification_report(y_test, y_pred))"
   ]
  },
  {
   "cell_type": "code",
   "execution_count": 414,
   "id": "8a624287-9c11-4f64-b980-cbec7f201448",
   "metadata": {},
   "outputs": [],
   "source": [
    "cm = confusion_matrix(y_test, y_pred)\n",
    "\n",
    "dtc_score = float(str(accuracy_score(y_test, y_pred) * 100)[:5])\n",
    "scores.append(('Decision Tree',dtc_score))"
   ]
  },
  {
   "cell_type": "code",
   "execution_count": 415,
   "id": "7c3c7a3e-6806-46fe-bb6e-02cf2edf9250",
   "metadata": {},
   "outputs": [
    {
     "data": {
      "image/png": "[encoded data removed]",
      "text/plain": [
       "<Figure size 432x288 with 2 Axes>"
      ]
     },
     "metadata": {
      "needs_background": "light"
     },
     "output_type": "display_data"
    }
   ],
   "source": [
    "ax = sns.heatmap(cm, annot=True, cmap='Blues')\n",
    "\n",
    "ax.set_title('Decision Tree Classification Confusion Matrix\\n\\n');\n",
    "ax.set_xlabel('\\nPredicted Values')\n",
    "ax.set_ylabel('Actual Values ');\n",
    "\n",
    "ax.xaxis.set_ticklabels(['False','True'])\n",
    "ax.yaxis.set_ticklabels(['False','True'])\n",
    "\n",
    "plt.show()\n"
   ]
  },
  {
   "cell_type": "markdown",
   "id": "9fb6878d-0291-4aa1-9e02-7485c6c1a7fb",
   "metadata": {
    "tags": []
   },
   "source": [
    "### 3.4 Random Forest"
   ]
  },
  {
   "cell_type": "code",
   "execution_count": 416,
   "id": "9e7f95bd-9671-4183-9869-0210ef3e5a22",
   "metadata": {},
   "outputs": [],
   "source": [
    "from sklearn.ensemble import RandomForestClassifier\n"
   ]
  },
  {
   "cell_type": "code",
   "execution_count": 417,
   "id": "e41d58ca-5ae6-4541-ac4f-17535ccc851c",
   "metadata": {},
   "outputs": [],
   "source": [
    "classifier = RandomForestClassifier(n_estimators = 10, criterion = 'entropy', random_state = 0)\n",
    "classifier.fit(X_train, y_train)\n",
    "\n",
    "y_pred = classifier.predict(X_test)"
   ]
  },
  {
   "cell_type": "code",
   "execution_count": 418,
   "id": "231981e1-9d61-4fa3-890a-8f0cabf55e20",
   "metadata": {},
   "outputs": [
    {
     "name": "stdout",
     "output_type": "stream",
     "text": [
      "              precision    recall  f1-score   support\n",
      "\n",
      "           0       0.95      1.00      0.97      1418\n",
      "           1       0.12      0.01      0.02        77\n",
      "\n",
      "    accuracy                           0.94      1495\n",
      "   macro avg       0.54      0.50      0.50      1495\n",
      "weighted avg       0.91      0.94      0.92      1495\n",
      "\n"
     ]
    }
   ],
   "source": [
    "print(classification_report(y_test, y_pred))"
   ]
  },
  {
   "cell_type": "code",
   "execution_count": 419,
   "id": "cfe8aa9c-882a-4817-b8fd-c3778d8b397f",
   "metadata": {},
   "outputs": [],
   "source": [
    "cm = confusion_matrix(y_test, y_pred)\n",
    "\n",
    "rfc_score = float(str(accuracy_score(y_test, y_pred) * 100)[:5])\n",
    "scores.append(('Random Forest',rfc_score))"
   ]
  },
  {
   "cell_type": "code",
   "execution_count": 420,
   "id": "d765e10b-41fd-4d23-8489-3556aa67a122",
   "metadata": {},
   "outputs": [
    {
     "data": {
      "image/png": "[encoded data removed]",
      "text/plain": [
       "<Figure size 432x288 with 2 Axes>"
      ]
     },
     "metadata": {
      "needs_background": "light"
     },
     "output_type": "display_data"
    }
   ],
   "source": [
    "ax = sns.heatmap(cm, annot=True, cmap='Blues')\n",
    "\n",
    "ax.set_title('Random Forest Classification Confusion Matrix\\n\\n');\n",
    "ax.set_xlabel('\\nPredicted Values')\n",
    "ax.set_ylabel('Actual Values ');\n",
    "\n",
    "ax.xaxis.set_ticklabels(['False','True'])\n",
    "ax.yaxis.set_ticklabels(['False','True'])\n",
    "\n",
    "plt.show()"
   ]
  },
  {
   "cell_type": "markdown",
   "id": "2beae87c-99c2-4353-a34a-a2eab72523e2",
   "metadata": {
    "tags": []
   },
   "source": [
    "### 3.5 SVM"
   ]
  },
  {
   "cell_type": "code",
   "execution_count": 421,
   "id": "0514c661-f24d-4746-854e-f5389d985f79",
   "metadata": {},
   "outputs": [],
   "source": [
    "from sklearn.svm import SVC\n"
   ]
  },
  {
   "cell_type": "code",
   "execution_count": 422,
   "id": "a3760d58-8bbd-49d4-808c-4cc0ed7fe8da",
   "metadata": {},
   "outputs": [],
   "source": [
    "classifier = SVC(kernel = 'sigmoid', random_state = 0)\n",
    "classifier.fit(X_train, y_train)\n",
    "\n",
    "y_pred = classifier.predict(X_test)"
   ]
  },
  {
   "cell_type": "code",
   "execution_count": 423,
   "id": "bc6d4401-676d-43e3-a25f-fb64a4fa8145",
   "metadata": {},
   "outputs": [
    {
     "name": "stdout",
     "output_type": "stream",
     "text": [
      "              precision    recall  f1-score   support\n",
      "\n",
      "           0       0.95      0.96      0.95      1418\n",
      "           1       0.12      0.10      0.11        77\n",
      "\n",
      "    accuracy                           0.91      1495\n",
      "   macro avg       0.53      0.53      0.53      1495\n",
      "weighted avg       0.91      0.91      0.91      1495\n",
      "\n"
     ]
    }
   ],
   "source": [
    "print(classification_report(y_test, y_pred))"
   ]
  },
  {
   "cell_type": "code",
   "execution_count": 424,
   "id": "6a96d873-151d-4d9b-bb5c-123a6dbc3c18",
   "metadata": {},
   "outputs": [],
   "source": [
    "cm = confusion_matrix(y_test, y_pred)\n",
    "\n",
    "svm_score = float(str(accuracy_score(y_test, y_pred) * 100)[:5])\n",
    "scores.append(('SVM',svm_score))"
   ]
  },
  {
   "cell_type": "code",
   "execution_count": 425,
   "id": "bc2a9faf-063e-4325-857a-5c1ef63274ce",
   "metadata": {},
   "outputs": [
    {
     "data": {
      "image/png": "[encoded data removed]",
      "text/plain": [
       "<Figure size 432x288 with 2 Axes>"
      ]
     },
     "metadata": {
      "needs_background": "light"
     },
     "output_type": "display_data"
    }
   ],
   "source": [
    "ax = sns.heatmap(cm, annot=True, cmap='Blues')\n",
    "\n",
    "ax.set_title('SVM Confusion Matrix\\n\\n');\n",
    "ax.set_xlabel('\\nPredicted Values')\n",
    "ax.set_ylabel('Actual Values ');\n",
    "\n",
    "ax.xaxis.set_ticklabels(['False','True'])\n",
    "ax.yaxis.set_ticklabels(['False','True'])\n",
    "\n",
    "plt.show()"
   ]
  },
  {
   "cell_type": "markdown",
   "id": "a4a1787d-5035-410c-b737-43a303b7f949",
   "metadata": {
    "tags": []
   },
   "source": [
    "### 3.6 KNN"
   ]
  },
  {
   "cell_type": "code",
   "execution_count": 426,
   "id": "ad44a2be-ee3e-413a-9727-1a84cd1fae90",
   "metadata": {},
   "outputs": [],
   "source": [
    "from sklearn.neighbors import KNeighborsClassifier"
   ]
  },
  {
   "cell_type": "code",
   "execution_count": 427,
   "id": "6e5a31f7-e687-486e-9e21-b989b35ce933",
   "metadata": {},
   "outputs": [],
   "source": [
    "classifier = KNeighborsClassifier(n_neighbors = 5, metric = 'minkowski', p = 2)\n",
    "classifier.fit(X_train, y_train)\n",
    "\n",
    "y_pred = classifier.predict(X_test)"
   ]
  },
  {
   "cell_type": "code",
   "execution_count": 428,
   "id": "0219e0b7-0928-42fe-b8cc-bba28d140ea7",
   "metadata": {},
   "outputs": [
    {
     "name": "stdout",
     "output_type": "stream",
     "text": [
      "              precision    recall  f1-score   support\n",
      "\n",
      "           0       0.95      1.00      0.97      1418\n",
      "           1       0.00      0.00      0.00        77\n",
      "\n",
      "    accuracy                           0.95      1495\n",
      "   macro avg       0.47      0.50      0.49      1495\n",
      "weighted avg       0.90      0.95      0.92      1495\n",
      "\n"
     ]
    }
   ],
   "source": [
    "print(classification_report(y_test, y_pred))"
   ]
  },
  {
   "cell_type": "code",
   "execution_count": 429,
   "id": "deef1627-c229-4dbe-b372-6aa29c23ad7f",
   "metadata": {},
   "outputs": [],
   "source": [
    "cm = confusion_matrix(y_test, y_pred)\n",
    "\n",
    "knn_score = float(str(accuracy_score(y_test, y_pred) * 100)[:5])\n",
    "scores.append(('KNN',knn_score))"
   ]
  },
  {
   "cell_type": "code",
   "execution_count": 430,
   "id": "052872c0-b8ce-4c62-b4f5-c2ee3da41d7f",
   "metadata": {},
   "outputs": [
    {
     "data": {
      "image/png": "[encoded data removed]",
      "text/plain": [
       "<Figure size 432x288 with 2 Axes>"
      ]
     },
     "metadata": {
      "needs_background": "light"
     },
     "output_type": "display_data"
    }
   ],
   "source": [
    "ax = sns.heatmap(cm, annot=True, cmap='Blues')\n",
    "\n",
    "ax.set_title('KNN Confusion Matrix\\n\\n');\n",
    "ax.set_xlabel('\\nPredicted Values')\n",
    "ax.set_ylabel('Actual Values ');\n",
    "\n",
    "ax.xaxis.set_ticklabels(['False','True'])\n",
    "ax.yaxis.set_ticklabels(['False','True'])\n",
    "\n",
    "plt.show()"
   ]
  },
  {
   "cell_type": "markdown",
   "id": "bc8de80c-87cf-4a03-9de4-768a701ec96e",
   "metadata": {
    "tags": []
   },
   "source": [
    "## 4. Comparation"
   ]
  },
  {
   "cell_type": "code",
   "execution_count": 431,
   "id": "99846ede-de78-4794-a11a-18f1149ae2bc",
   "metadata": {},
   "outputs": [
    {
     "data": {
      "text/html": [
       "<div>\n",
       "<style scoped>\n",
       "    .dataframe tbody tr th:only-of-type {\n",
       "        vertical-align: middle;\n",
       "    }\n",
       "\n",
       "    .dataframe tbody tr th {\n",
       "        vertical-align: top;\n",
       "    }\n",
       "\n",
       "    .dataframe thead th {\n",
       "        text-align: right;\n",
       "    }\n",
       "</style>\n",
       "<table border=\"1\" class=\"dataframe\">\n",
       "  <thead>\n",
       "    <tr style=\"text-align: right;\">\n",
       "      <th></th>\n",
       "      <th>Model</th>\n",
       "      <th>Score</th>\n",
       "    </tr>\n",
       "  </thead>\n",
       "  <tbody>\n",
       "    <tr>\n",
       "      <th>0</th>\n",
       "      <td>XGBoost</td>\n",
       "      <td>94.18</td>\n",
       "    </tr>\n",
       "    <tr>\n",
       "      <th>1</th>\n",
       "      <td>Logistic Regression</td>\n",
       "      <td>94.91</td>\n",
       "    </tr>\n",
       "    <tr>\n",
       "      <th>2</th>\n",
       "      <td>Decision Tree</td>\n",
       "      <td>91.03</td>\n",
       "    </tr>\n",
       "    <tr>\n",
       "      <th>3</th>\n",
       "      <td>Random Forest</td>\n",
       "      <td>94.44</td>\n",
       "    </tr>\n",
       "    <tr>\n",
       "      <th>4</th>\n",
       "      <td>SVM</td>\n",
       "      <td>91.30</td>\n",
       "    </tr>\n",
       "    <tr>\n",
       "      <th>5</th>\n",
       "      <td>KNN</td>\n",
       "      <td>94.71</td>\n",
       "    </tr>\n",
       "  </tbody>\n",
       "</table>\n",
       "</div>"
      ],
      "text/plain": [
       "                 Model  Score\n",
       "0              XGBoost  94.18\n",
       "1  Logistic Regression  94.91\n",
       "2        Decision Tree  91.03\n",
       "3        Random Forest  94.44\n",
       "4                  SVM  91.30\n",
       "5                  KNN  94.71"
      ]
     },
     "metadata": {},
     "output_type": "display_data"
    }
   ],
   "source": [
    "scores = pd.DataFrame(scores,columns=['Model','Score'])\n",
    "\n",
    "from IPython.display import display\n",
    "\n",
    "display(scores)"
   ]
  },
  {
   "cell_type": "markdown",
   "id": "9a640058-fdf4-4014-afa8-ea438d4d6a40",
   "metadata": {
    "tags": []
   },
   "source": [
    "## 5. Conclusion"
   ]
  },
  {
   "cell_type": "markdown",
   "id": "02539586-19fe-4c4b-8400-edc985ea8bda",
   "metadata": {
    "jp-MarkdownHeadingCollapsed": true,
    "tags": []
   },
   "source": [
    "Among the models tried above, Logistic Regression has a better performance. But after finishing this chapter, two important questions need to be considered deeply in order to get better prediction. \n"
   ]
  },
  {
   "cell_type": "markdown",
   "id": "b764d87e-c29f-4e32-8b7c-44f080b1660b",
   "metadata": {},
   "source": [
    "(i) the dataset is unbalanced, the amount of patients with brain stroke(1) is far smaller than the amount of 0; should we consider some resample methods to balance the training dataset?"
   ]
  },
  {
   "cell_type": "markdown",
   "id": "9d8f39dd-7bdd-49ee-b380-2ec2c003b3e4",
   "metadata": {},
   "source": [
    "(ii) hyperparameter tuning for each model"
   ]
  },
  {
   "cell_type": "markdown",
   "id": "220b60b2-d680-434c-b486-f9924ac0d1ba",
   "metadata": {},
   "source": [
    "#### I will do these work in the next chapter."
   ]
  }
 ],
 "metadata": {
  "kernelspec": {
   "display_name": "Python 3 (ipykernel)",
   "language": "python",
   "name": "python3"
  },
  "language_info": {
   "codemirror_mode": {
    "name": "ipython",
    "version": 3
   },
   "file_extension": ".py",
   "mimetype": "text/x-python",
   "name": "python",
   "nbconvert_exporter": "python",
   "pygments_lexer": "ipython3",
   "version": "3.9.12"
  }
 },
 "nbformat": 4,
 "nbformat_minor": 5
}
